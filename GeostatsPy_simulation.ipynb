{
 "cells": [
  {
   "cell_type": "markdown",
   "metadata": {},
   "source": [
    "<p align=\"center\">\n",
    "    <img src=\"https://github.com/GeostatsGuy/GeostatsPy/blob/master/TCG_color_logo.png?raw=true\" width=\"220\" height=\"240\" />\n",
    "\n",
    "</p>\n",
    "\n",
    "## GeostatsPy Well-documented Demonstration Workflows \n",
    "\n",
    "### Sequential Gaussian Simulation (SGSIM) Maps\n",
    "\n",
    "#### Michael Pyrcz, Professor, The University of Texas at Austin \n",
    "\n",
    "##### [Twitter](https://twitter.com/geostatsguy) | [GitHub](https://github.com/GeostatsGuy) | [Website](http://michaelpyrcz.com) | [GoogleScholar](https://scholar.google.com/citations?user=QVZ20eQAAAAJ&hl=en&oi=ao) | [Book](https://www.amazon.com/Geostatistical-Reservoir-Modeling-Michael-Pyrcz/dp/0199731446) | [YouTube](https://www.youtube.com/channel/UCLqEr-xV-ceHdXXXrTId5ig)  | [LinkedIn](https://www.linkedin.com/in/michael-pyrcz-61a648a1)"
   ]
  },
  {
   "cell_type": "markdown",
   "metadata": {},
   "source": [
    "This is a tutorial for / demonstration of **Spatial Simulation with Sequential Gaussian Simulation (SGSIM)** with a 2D map example.\n",
    "\n",
    "* sequential Gaussian simulation is a common geostatistical method for calculating spatial models with an appropriate level of heterogeneity\n",
    "\n",
    "\n",
    "**YouTube Lecture**: check out my lecture on [Stochastic Simulation](https://youtu.be/3cLqK3lR56Y?si=3WhHX5QOZrrtlgAI). For your convenience here's a summary of salient points.\n",
    "\n",
    "#### Estimation vs. Simulation\n",
    "\n",
    "Let's start by comparing spatial estimation and simulation.\n",
    "\n",
    "Estimation: \n",
    "\n",
    "* honors local data \n",
    "* locally accurate, primary goal of estimation is 1 estimate! \n",
    "* too smooth, appropriate for visualizing trends \n",
    "* too smooth, inappropriate for flow simulation \n",
    "* one model, no assessment of global uncertainty \n",
    "\n",
    "Simulation: \n",
    "\n",
    "* honors local data \n",
    "* sacrifices local accuracy, reproduces histogram \n",
    "* honors spatial variability, appropriate for flow simulation \n",
    "* alternative realizations, change random number seed \n",
    "* many models (realizations), assessment of global uncertainty\n",
    "\n",
    "No let's explain the concept of spatial simulation.\n",
    "\n",
    "#### Spatial Simulation\n",
    "\n",
    "This method is critical for:\n",
    "\n",
    "1. Prediction away from wells, e.g. pre-drill assessments, with uncertainty \n",
    "2. Spatial uncertainty modeling.\n",
    "3. Heterogeneity realizations ready for application to the transfer function.\n",
    "\n",
    "#### Sequential Gaussian Simulation\n",
    "\n",
    "With sequential Gaussian simulation we build on kriging by:\n",
    "\n",
    "* adding a random residual with the missing variance\n",
    "\n",
    "* sequentially adding the simulated values as data to correct the covariance between the simulated values\n",
    "\n",
    "The resulting model corrects the issues of kriging, as we now:\n",
    "\n",
    "* reproduce the global feature PDF / CDF\n",
    "\n",
    "* reproduce the global variogram\n",
    "\n",
    "* while providing a model of uncertainty through multiple realizations\n",
    "\n",
    "In this workflow we run multiple simulation realizations, and check the statistics.\n",
    "\n",
    "#### Load the required libraries\n",
    "\n",
    "The following code loads the required libraries. "
   ]
  },
  {
   "cell_type": "code",
   "execution_count": 1,
   "metadata": {},
   "outputs": [
    {
     "name": "stdout",
     "output_type": "stream",
     "text": [
      "GeostatsPy version: 0.0.66\n"
     ]
    }
   ],
   "source": [
    "import geostatspy.GSLIB as GSLIB                              # GSLIB utilies, visualization and wrapper\n",
    "import geostatspy.geostats as geostats                        # GSLIB methods convert to Python      \n",
    "import geostatspy\n",
    "print('GeostatsPy version: ' + str(geostatspy.__version__))"
   ]
  },
  {
   "cell_type": "markdown",
   "metadata": {},
   "source": [
    "We will also need some standard packages. These should have been installed with Anaconda 3."
   ]
  },
  {
   "cell_type": "code",
   "execution_count": 2,
   "metadata": {},
   "outputs": [],
   "source": [
    "ignore_warnings = True                                        # ignore warnings?\n",
    "import numpy as np                                            # ndarrys for gridded data\n",
    "import pandas as pd                                           # DataFrames for tabular data\n",
    "import os                                                     # set working directory, run executables\n",
    "import matplotlib.pyplot as plt                               # for plotting\n",
    "from matplotlib.ticker import (MultipleLocator, AutoMinorLocator) # control of axes ticks\n",
    "from matplotlib import gridspec                               # custom subplots\n",
    "plt.rc('axes', axisbelow=True)                                # plot all grids below the plot elements\n",
    "if ignore_warnings == True:                                   \n",
    "    import warnings\n",
    "    warnings.filterwarnings('ignore')\n",
    "from IPython.utils import io                                  # mute output from simulation\n",
    "cmap = plt.cm.inferno                                         # color map"
   ]
  },
  {
   "cell_type": "markdown",
   "metadata": {},
   "source": [
    "If you get a package import error, you may have to first install some of these packages. This can usually be accomplished by opening up a command window on Windows and then typing 'python -m pip install [package-name]'. More assistance is available with the respective package docs.  \n",
    "\n",
    "#### Declare Functions\n",
    "\n",
    "Here's a convenience function for plotting variograms."
   ]
  },
  {
   "cell_type": "code",
   "execution_count": 3,
   "metadata": {},
   "outputs": [],
   "source": [
    "def add_grid():\n",
    "    plt.gca().grid(True, which='major',linewidth = 1.0); plt.gca().grid(True, which='minor',linewidth = 0.2) # add y grids\n",
    "    plt.gca().tick_params(which='major',length=7); plt.gca().tick_params(which='minor', length=4)\n",
    "    plt.gca().xaxis.set_minor_locator(AutoMinorLocator()); plt.gca().yaxis.set_minor_locator(AutoMinorLocator()) # turn on minor ticks   \n",
    "\n",
    "def vargplot(feature,lags,gamma_maj,gamma_min,npps_maj,npps_min,vmodel,azi,atol,sill): # plot the variogram\n",
    "    index_maj,lags_maj,gmod_maj,cov_maj,ro_maj = geostats.vmodel(nlag=100,xlag=10,azm=azi,vario=vmodel);\n",
    "    index_min,lags_min,gmod_min,cov_min,ro_min = geostats.vmodel(nlag=100,xlag=10,azm=azi+90.0,vario=vmodel);\n",
    "    \n",
    "    plt.scatter(lags,gamma_maj,color = 'black',s = npps_maj*0.01,label = 'Major Azimuth ' +str(azi), alpha = 0.8)\n",
    "    plt.plot(lags_maj,gmod_maj,color = 'black')\n",
    "    plt.scatter(lags,gamma_min,color = 'red',s = npps_min*0.01,label = 'Minor Azimuth ' +str(azi+90.0), alpha = 0.8)\n",
    "    plt.plot(lags_min,gmod_min,color = 'red',label = 'Input Major Model')\n",
    "    plt.plot([0,2000],[sill,sill],color = 'black',label = 'Input Minor Model')\n",
    "    plt.xlabel(r'Lag Distance $\\bf(h)$, (m)')\n",
    "    plt.ylabel(r'$\\gamma \\bf(h)$')\n",
    "    if atol < 90.0:\n",
    "        plt.title('Check Directional ' + feature + ' Variogram')\n",
    "    else: \n",
    "        plt.title('Check Omnidirectional NSCORE ' + feature + ' Variogram')\n",
    "    plt.xlim([0,1000]); #plt.ylim([0,1.8])\n",
    "    plt.legend(loc=\"lower right\")\n",
    "    add_grid()"
   ]
  },
  {
   "cell_type": "markdown",
   "metadata": {},
   "source": [
    "#### Set the working directory\n",
    "\n",
    "I always like to do this so I don't lose files and to simplify subsequent read and writes (avoid including the full address each time). "
   ]
  },
  {
   "cell_type": "code",
   "execution_count": 4,
   "metadata": {},
   "outputs": [],
   "source": [
    "#os.chdir(\"c:/PGE383\")                                     # set the working directory"
   ]
  },
  {
   "cell_type": "markdown",
   "metadata": {},
   "source": [
    "#### Loading Tabular Data\n",
    "\n",
    "Here's the command to load our comma delimited data file in to a Pandas' DataFrame object. \n",
    "\n",
    "* We will also extract a limited sample to reduce data density. This way we can observe more of the heterogeneity from the simulation with the spatial continuity model, rather than mostly data driven heterogeneity.\n",
    "\n",
    "* By setting unconditional to True the data are shifted well outside the area of interest and are only used for the target reference distribution"
   ]
  },
  {
   "cell_type": "code",
   "execution_count": 5,
   "metadata": {
    "scrolled": true
   },
   "outputs": [
    {
     "data": {
      "text/html": [
       "<div>\n",
       "<style scoped>\n",
       "    .dataframe tbody tr th:only-of-type {\n",
       "        vertical-align: middle;\n",
       "    }\n",
       "\n",
       "    .dataframe tbody tr th {\n",
       "        vertical-align: top;\n",
       "    }\n",
       "\n",
       "    .dataframe thead th {\n",
       "        text-align: right;\n",
       "    }\n",
       "</style>\n",
       "<table border=\"1\" class=\"dataframe\">\n",
       "  <thead>\n",
       "    <tr style=\"text-align: right;\">\n",
       "      <th></th>\n",
       "      <th>X</th>\n",
       "      <th>Y</th>\n",
       "      <th>Facies</th>\n",
       "      <th>Porosity</th>\n",
       "      <th>Perm</th>\n",
       "      <th>logPerm</th>\n",
       "    </tr>\n",
       "  </thead>\n",
       "  <tbody>\n",
       "    <tr>\n",
       "      <th>0</th>\n",
       "      <td>270.0</td>\n",
       "      <td>939.0</td>\n",
       "      <td>1.0</td>\n",
       "      <td>0.120364</td>\n",
       "      <td>21.420613</td>\n",
       "      <td>3.064354</td>\n",
       "    </tr>\n",
       "    <tr>\n",
       "      <th>1</th>\n",
       "      <td>410.0</td>\n",
       "      <td>789.0</td>\n",
       "      <td>1.0</td>\n",
       "      <td>0.124565</td>\n",
       "      <td>36.894248</td>\n",
       "      <td>3.608056</td>\n",
       "    </tr>\n",
       "    <tr>\n",
       "      <th>2</th>\n",
       "      <td>820.0</td>\n",
       "      <td>389.0</td>\n",
       "      <td>0.0</td>\n",
       "      <td>0.093900</td>\n",
       "      <td>2.427176</td>\n",
       "      <td>0.886729</td>\n",
       "    </tr>\n",
       "    <tr>\n",
       "      <th>3</th>\n",
       "      <td>800.0</td>\n",
       "      <td>900.0</td>\n",
       "      <td>1.0</td>\n",
       "      <td>0.127497</td>\n",
       "      <td>7.608928</td>\n",
       "      <td>2.029322</td>\n",
       "    </tr>\n",
       "    <tr>\n",
       "      <th>4</th>\n",
       "      <td>870.0</td>\n",
       "      <td>819.0</td>\n",
       "      <td>0.0</td>\n",
       "      <td>0.099368</td>\n",
       "      <td>0.400079</td>\n",
       "      <td>-0.916093</td>\n",
       "    </tr>\n",
       "  </tbody>\n",
       "</table>\n",
       "</div>"
      ],
      "text/plain": [
       "       X      Y  Facies  Porosity       Perm   logPerm\n",
       "0  270.0  939.0     1.0  0.120364  21.420613  3.064354\n",
       "1  410.0  789.0     1.0  0.124565  36.894248  3.608056\n",
       "2  820.0  389.0     0.0  0.093900   2.427176  0.886729\n",
       "3  800.0  900.0     1.0  0.127497   7.608928  2.029322\n",
       "4  870.0  819.0     0.0  0.099368   0.400079 -0.916093"
      ]
     },
     "execution_count": 5,
     "metadata": {},
     "output_type": "execute_result"
    }
   ],
   "source": [
    "unconditional = False\n",
    "df = pd.read_csv(r\"https://raw.githubusercontent.com/GeostatsGuy/GeoDataSets/master/sample_data_MV_biased.csv\") # from Dr. Pyrcz's GitHub repo\n",
    "df = df.sample(50)                                        # extract 50 samples\n",
    "df = df.reset_index()                                     # reset the record index \n",
    "df = df.drop(['index','Unnamed: 0','AI'],axis=1)          # remove extra columns in DataFrame\n",
    "df['logPerm'] = np.log(df['Perm'].values)                 # calculate the log of permeability\n",
    "if unconditional == True:\n",
    "    df['X'] = df['X'] + 9999999.9                         # move the data outside the model, just use the distributions as a reference to constrain the simulated distributions\n",
    "df.head()                                                 # DataFrame summary"
   ]
  },
  {
   "cell_type": "markdown",
   "metadata": {},
   "source": [
    "#### Sequential Gaussian Simulation\n",
    "\n",
    "Let's jump right to building a variety of models with simulation and visualizing the results.  We will start with a test of 3 realizations.\n",
    "\n",
    "* look at the realizations and check the histogram and variograms"
   ]
  },
  {
   "cell_type": "code",
   "execution_count": null,
   "metadata": {
    "scrolled": false
   },
   "outputs": [],
   "source": [
    "zmin = 0.00; zmax = 0.20                                  # feature min and max values \n",
    "nx = 80; ny = 80; xsiz = 10.0; ysiz = 10.0; xmn = 5.0; ymn = 5.0; nxdis = 1; nydis = 1 # grid specification\n",
    "nreal = 3                                                 # number of realizations\n",
    "ndmin = 0; ndmax = 20                                     # number of data for each kriging system\n",
    "vario = GSLIB.make_variogram(nug=0.0,nst=1,it1=1,cc1=1.0,azi1=0.0,hmaj1=200,hmin1=50)\n",
    "tmin = -999; tmax = 999\n",
    "sill = np.std(df['Porosity'].values)*np.std(df['Porosity'].values)\n",
    "\n",
    "sim_sk = geostats.sgsim(df,'X','Y','Porosity',wcol=-1,scol=-1,tmin=tmin,tmax=tmax,itrans=1,ismooth=0,dftrans=0,tcol=0,\n",
    "            twtcol=0,zmin=zmin,zmax=zmax,ltail=1,ltpar=0.0,utail=1,utpar=0.3,nsim=nreal,\n",
    "            nx=nx,xmn=xmn,xsiz=xsiz,ny=ny,ymn=ymn,ysiz=ysiz,seed=73073,\n",
    "            ndmin=ndmin,ndmax=ndmax,nodmax=20,mults=1,nmult=3,noct=-1,ktype=0,colocorr=0.0,sec_map=0,vario=vario)\n",
    "\n",
    "xmin = xmn-xsiz/2; xmax = nx*xsiz + xmin; ymin = ymn-ysiz/2; ymax = ny*ysiz + ymin; cmap = plt.cm.inferno # plotting parameters\n",
    "\n",
    "for isim in range(0,nreal):\n",
    "    plt.subplot(nreal,3,1 + isim*3)                                          # plot the results\n",
    "    GSLIB.locpix_st(sim_sk[isim],xmin,xmax,ymin,ymax,xsiz,zmin,zmax,df,'X','Y','Porosity','Sequential Gaussian Simulation w. Simple Kriging #' + str(isim+1),'X(m)','Y(m)','Porosity',cmap)\n",
    "    \n",
    "    lags, gamma_x, npps_x = geostats.gam(sim_sk[isim],-9999.9,9999.9,xsiz,ysiz,ixd=1,iyd=0,nlag=100,isill=0)\n",
    "    lags, gamma_y, npps_y = geostats.gam(sim_sk[isim],-9999.9,9999.9,xsiz,ysiz,ixd=0,iyd=1,nlag=100,isill=0)\n",
    "\n",
    "    plt.subplot(nreal,3,2 + isim*3)\n",
    "    plt.hist(sim_sk[isim].flatten(),bins=np.linspace(zmin,zmax,30),density=True,color='darkorange',alpha=0.6,edgecolor='black',zorder=10,label='Realization')\n",
    "    plt.hist(df['Porosity'].values,bins=np.linspace(zmin,zmax,30),density=True,color='grey',alpha=0.5,edgecolor='black',zorder=1,label='Input')\n",
    "    plt.legend(loc='upper left'); add_grid()\n",
    "    plt.xlim([zmin,zmax]); plt.ylim([0,30]); plt.title('Check Histogram'); add_grid()\n",
    "    \n",
    "    plt.subplot(nreal,3,3 + isim*3)\n",
    "    vario_plot = vario\n",
    "    vario_plot.update({\"cc1\":sill})\n",
    "    vargplot('Porosity',lags,gamma_x,gamma_y,npps_x,npps_y,vario_plot,azi=90.0,atol=22.5,sill=sill)     # plot the variogram\n",
    "    plt.xlim([0,1000]); plt.ylim([0.0,sill*2.0])\n",
    "\n",
    "plt.subplots_adjust(left=0.0, bottom=0.0, right=3.0, top=3.1, wspace=0.2, hspace=0.2); plt.show()"
   ]
  },
  {
   "cell_type": "markdown",
   "metadata": {},
   "source": [
    "#### Comments\n",
    "\n",
    "This was a basic demonstration of sequential Gaussian simulation to calculate spatial heterogeneity realizations that honor the data, histogram and variogram. Much more can be done, I have other demonstrations for modeling workflows with GeostatsPy in the GitHub repository [GeostatsPy_Demos](https://github.com/GeostatsGuy/GeostatsPy_Demos/tree/main).\n",
    "\n",
    "I hope this is helpful,\n",
    "\n",
    "*Michael*\n",
    "\n",
    "#### The Author:\n",
    "\n",
    "### Michael Pyrcz, Professor, The University of Texas at Austin \n",
    "*Novel Data Analytics, Geostatistics and Machine Learning Subsurface Solutions*\n",
    "\n",
    "With over 17 years of experience in subsurface consulting, research and development, Michael has returned to academia driven by his passion for teaching and enthusiasm for enhancing engineers' and geoscientists' impact in subsurface resource development. \n",
    "\n",
    "For more about Michael check out these links:\n",
    "\n",
    "#### [Twitter](https://twitter.com/geostatsguy) | [GitHub](https://github.com/GeostatsGuy) | [Website](http://michaelpyrcz.com) | [GoogleScholar](https://scholar.google.com/citations?user=QVZ20eQAAAAJ&hl=en&oi=ao) | [Book](https://www.amazon.com/Geostatistical-Reservoir-Modeling-Michael-Pyrcz/dp/0199731446) | [YouTube](https://www.youtube.com/channel/UCLqEr-xV-ceHdXXXrTId5ig)  | [LinkedIn](https://www.linkedin.com/in/michael-pyrcz-61a648a1)\n",
    "\n",
    "#### Want to Work Together?\n",
    "\n",
    "I hope this content is helpful to those that want to learn more about subsurface modeling, data analytics and machine learning. Students and working professionals are welcome to participate.\n",
    "\n",
    "* Want to invite me to visit your company for training, mentoring, project review, workflow design and / or consulting? I'd be happy to drop by and work with you! \n",
    "\n",
    "* Interested in partnering, supporting my graduate student research or my Subsurface Data Analytics and Machine Learning consortium (co-PIs including Profs. Foster, Torres-Verdin and van Oort)? My research combines data analytics, stochastic modeling and machine learning theory with practice to develop novel methods and workflows to add value. We are solving challenging subsurface problems!\n",
    "\n",
    "* I can be reached at mpyrcz@austin.utexas.edu.\n",
    "\n",
    "I'm always happy to discuss,\n",
    "\n",
    "*Michael*\n",
    "\n",
    "Michael Pyrcz, Ph.D., P.Eng. Professor, Cockrell School of Engineering and The Jackson School of Geosciences, The University of Texas at Austin\n",
    "\n",
    "#### More Resources Available at: [Twitter](https://twitter.com/geostatsguy) | [GitHub](https://github.com/GeostatsGuy) | [Website](http://michaelpyrcz.com) | [GoogleScholar](https://scholar.google.com/citations?user=QVZ20eQAAAAJ&hl=en&oi=ao) | [Book](https://www.amazon.com/Geostatistical-Reservoir-Modeling-Michael-Pyrcz/dp/0199731446) | [YouTube](https://www.youtube.com/channel/UCLqEr-xV-ceHdXXXrTId5ig)  | [LinkedIn](https://www.linkedin.com/in/michael-pyrcz-61a648a1)  \n",
    "  www.youtube.com/channel/UCLqEr-xV-ceHdXXXrTId5ig)  | [LinkedIn](https://www.linkedin.com/in/michael-pyrcz-61a648a1)\n",
    "sGuy) | [Website](http://michaelpyrcz.com) | [GoogleScholar](https://scholar.google.com/citations?user=QVZ20eQAAAAJ&hl=en&oi=ao) | [Book](https://www.amazon.com/Geostatistical-Reservoir-Modeling-Michael-Pyrcz/dp/0199731446) | [YouTube](https://www.youtube.com/channel/UCLqEr-xV-ceHdXXXrTId5ig)  | [LinkedIn](https://www.linkedin.com/in/michael-pyrcz-61a648a1)\n"
   ]
  },
  {
   "cell_type": "code",
   "execution_count": null,
   "metadata": {},
   "outputs": [],
   "source": []
  }
 ],
 "metadata": {
  "kernelspec": {
   "display_name": "Python 3 (ipykernel)",
   "language": "python",
   "name": "python3"
  },
  "language_info": {
   "codemirror_mode": {
    "name": "ipython",
    "version": 3
   },
   "file_extension": ".py",
   "mimetype": "text/x-python",
   "name": "python",
   "nbconvert_exporter": "python",
   "pygments_lexer": "ipython3",
   "version": "3.11.4"
  }
 },
 "nbformat": 4,
 "nbformat_minor": 2
}
